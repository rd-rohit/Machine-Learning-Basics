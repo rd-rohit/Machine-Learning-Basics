{
 "cells": [
  {
   "cell_type": "code",
   "execution_count": 2,
   "metadata": {},
   "outputs": [],
   "source": [
    "import numpy as np\n",
    "import pandas as pd"
   ]
  },
  {
   "cell_type": "code",
   "execution_count": 4,
   "metadata": {},
   "outputs": [
    {
     "data": {
      "text/html": [
       "<div>\n",
       "<style scoped>\n",
       "    .dataframe tbody tr th:only-of-type {\n",
       "        vertical-align: middle;\n",
       "    }\n",
       "\n",
       "    .dataframe tbody tr th {\n",
       "        vertical-align: top;\n",
       "    }\n",
       "\n",
       "    .dataframe thead th {\n",
       "        text-align: right;\n",
       "    }\n",
       "</style>\n",
       "<table border=\"1\" class=\"dataframe\">\n",
       "  <thead>\n",
       "    <tr style=\"text-align: right;\">\n",
       "      <th></th>\n",
       "      <th>0</th>\n",
       "      <th>1</th>\n",
       "    </tr>\n",
       "  </thead>\n",
       "  <tbody>\n",
       "    <tr>\n",
       "      <th>0</th>\n",
       "      <td>6.1101</td>\n",
       "      <td>17.5920</td>\n",
       "    </tr>\n",
       "    <tr>\n",
       "      <th>1</th>\n",
       "      <td>5.5277</td>\n",
       "      <td>9.1302</td>\n",
       "    </tr>\n",
       "    <tr>\n",
       "      <th>2</th>\n",
       "      <td>8.5186</td>\n",
       "      <td>13.6620</td>\n",
       "    </tr>\n",
       "    <tr>\n",
       "      <th>3</th>\n",
       "      <td>7.0032</td>\n",
       "      <td>11.8540</td>\n",
       "    </tr>\n",
       "    <tr>\n",
       "      <th>4</th>\n",
       "      <td>5.8598</td>\n",
       "      <td>6.8233</td>\n",
       "    </tr>\n",
       "  </tbody>\n",
       "</table>\n",
       "</div>"
      ],
      "text/plain": [
       "        0        1\n",
       "0  6.1101  17.5920\n",
       "1  5.5277   9.1302\n",
       "2  8.5186  13.6620\n",
       "3  7.0032  11.8540\n",
       "4  5.8598   6.8233"
      ]
     },
     "execution_count": 4,
     "metadata": {},
     "output_type": "execute_result"
    }
   ],
   "source": [
    "df = pd.read_csv('../personal-dev/ml/Machine-Learning-With-Python/ex1data1.txt', header=None)\n",
    "df.head()"
   ]
  },
  {
   "cell_type": "code",
   "execution_count": 9,
   "metadata": {},
   "outputs": [
    {
     "data": {
      "image/png": "[encoded data removed]",
      "text/plain": [
       "<Figure size 432x288 with 1 Axes>"
      ]
     },
     "metadata": {
      "needs_background": "light"
     },
     "output_type": "display_data"
    }
   ],
   "source": [
    "%matplotlib inline\n",
    "import matplotlib.pyplot as plt\n",
    "plt.figure()\n",
    "plt.scatter(df[0],df[1])\n",
    "plt.show()"
   ]
  },
  {
   "cell_type": "code",
   "execution_count": 38,
   "metadata": {},
   "outputs": [
    {
     "data": {
      "image/png": "[encoded data removed]",
      "text/plain": [
       "<Figure size 432x288 with 1 Axes>"
      ]
     },
     "metadata": {
      "needs_background": "light"
     },
     "output_type": "display_data"
    },
    {
     "name": "stdout",
     "output_type": "stream",
     "text": [
      "y_predict\n",
      "--------------\n",
      "0      3.435370\n",
      "1      2.746849\n",
      "2      6.282729\n",
      "3      4.491204\n",
      "4      3.139462\n",
      "        ...    \n",
      "92     3.152348\n",
      "93     2.484043\n",
      "94     6.016495\n",
      "95    12.046489\n",
      "96     2.639504\n",
      "Name: 0, Length: 97, dtype: float64\n",
      "theta\n",
      "--------------\n",
      "[-3.78806857272311, 1.1822127747573767]\n"
     ]
    }
   ],
   "source": [
    "theta = [0,0]\n",
    "def hypothesis(theta, X):\n",
    "    return theta[0]+theta[1]*X\n",
    "def cost_func(theta, X, y) :\n",
    "    return 1/2 * np.sum((hypothesis(theta,X)-y)**2)\n",
    "\n",
    "m = len(df)\n",
    "def gradient_descent(theta, X, y, epoch, alpha):\n",
    "    cost = []\n",
    "    i = 0\n",
    "    while i < epoch :\n",
    "        hx = hypothesis(theta, X)\n",
    "        theta[0] -= alpha*(np.sum(hx-y)/m)\n",
    "        theta[1] -= alpha*(np.sum((hx-y)*X)/m)\n",
    "        cost.append(cost_func(theta, X, y))\n",
    "        i+=1\n",
    "    return theta, cost\n",
    "\n",
    "def predict(theta, X, y , epoch, alpha):\n",
    "    theta, cost = gradient_descent(theta, X, y, epoch, alpha)\n",
    "    return hypothesis(theta, X), theta, cost\n",
    "\n",
    "y_predict, theta, cost = predict(theta, df[0], df[1], 2000, 0.01)\n",
    "plt.figure()\n",
    "plt.scatter(df[0],df[1], label = 'Original y')\n",
    "plt.scatter(df[0],y_predict, label = 'Predicted y')\n",
    "plt.legend(loc = 'upper left')\n",
    "plt.xlabel(\"input feature\")\n",
    "plt.ylabel(\"Original and Predicted value\")\n",
    "plt.show()\n",
    "print(\"y_predict\")\n",
    "print(\"--------------\")\n",
    "print(y_predict)\n",
    "print(\"theta\")\n",
    "print(\"--------------\")\n",
    "print(theta)"
   ]
  },
  {
   "cell_type": "code",
   "execution_count": 37,
   "metadata": {},
   "outputs": [
    {
     "data": {
      "image/png": "[encoded data removed]",
      "text/plain": [
       "<Figure size 432x288 with 1 Axes>"
      ]
     },
     "metadata": {
      "needs_background": "light"
     },
     "output_type": "display_data"
    }
   ],
   "source": [
    "plt.figure()\n",
    "plt.scatter(range(0, len(cost)), cost)\n",
    "plt.show()"
   ]
  }
 ],
 "metadata": {
  "kernelspec": {
   "display_name": "Python 3",
   "language": "python",
   "name": "python3"
  },
  "language_info": {
   "codemirror_mode": {
    "name": "ipython",
    "version": 3
   },
   "file_extension": ".py",
   "mimetype": "text/x-python",
   "name": "python",
   "nbconvert_exporter": "python",
   "pygments_lexer": "ipython3",
   "version": "3.7.4"
  }
 },
 "nbformat": 4,
 "nbformat_minor": 2
}
